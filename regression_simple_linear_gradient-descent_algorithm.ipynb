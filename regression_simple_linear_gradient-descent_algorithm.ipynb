{
 "cells": [
  {
   "cell_type": "markdown",
   "metadata": {},
   "source": [
    "# Supervised Learning : Linear Regression "
   ]
  },
  {
   "cell_type": "code",
   "execution_count": 1,
   "metadata": {},
   "outputs": [],
   "source": [
    "#importing libraries\n",
    "import numpy as np\n",
    "import pandas as pd"
   ]
  },
  {
   "cell_type": "code",
   "execution_count": 2,
   "metadata": {},
   "outputs": [],
   "source": [
    "#downloading the dataset \n",
    "filepath='https://raw.githubusercontent.com/AdiPersonalWorks/Random/master/student_scores%20-%20student_scores.csv'\n",
    "data=pd.read_csv(filepath)"
   ]
  },
  {
   "cell_type": "markdown",
   "metadata": {},
   "source": [
    "Executing Simple Linear Regression with MSE "
   ]
  },
  {
   "cell_type": "code",
   "execution_count": 5,
   "metadata": {},
   "outputs": [],
   "source": [
    "#allocating variables to arrays\n",
    "x=data.iloc[:,0].values\n",
    "y=data.iloc[:,1].values"
   ]
  },
  {
   "cell_type": "code",
   "execution_count": 6,
   "metadata": {},
   "outputs": [],
   "source": [
    "#reshaping the arrays\n",
    "x=x.reshape(25,1)\n",
    "y=y.reshape(25,1)"
   ]
  },
  {
   "cell_type": "markdown",
   "metadata": {},
   "source": [
    "Constructing and Training Model"
   ]
  },
  {
   "cell_type": "code",
   "execution_count": 42,
   "metadata": {},
   "outputs": [],
   "source": [
    "#setting the hyperparameters\n",
    "\n",
    "m=x.shape[0] #no. of samples\n",
    "learning_rate=0.01\n",
    "epochs=20\n",
    "\n",
    "#initialising weights and biases\n",
    "w=np.random.random((1,1))\n",
    "b=np.random.random((1,1))\n",
    "\n",
    "for j in range(epochs):\n",
    "    loss=np.zeros((25,1))\n",
    "    for i in range(x.shape[0]):\n",
    "        arr=((w*x[i]+b)-y[i])\n",
    "        loss[i]=arr[0]\n",
    "        \n",
    "    #implementing gadient descent\n",
    "    dw=(2/m) * (np.dot(loss.T,x))\n",
    "    db=(2/m) * (np.sum(loss))\n",
    "    \n",
    "    #updating_weights    \n",
    "    w=w-(learning_rate*dw)\n",
    "    b=b-(learning_rate*db)\n",
    "        "
   ]
  },
  {
   "cell_type": "markdown",
   "metadata": {},
   "source": [
    "Optimized Parameter Values"
   ]
  },
  {
   "cell_type": "code",
   "execution_count": 48,
   "metadata": {},
   "outputs": [
    {
     "name": "stdout",
     "output_type": "stream",
     "text": [
      "Optimized w is [9.79605714]\n",
      "Optimized b is [2.3581978]\n",
      "Line Equation is y = [9.79605714]*x + [2.3581978]\n"
     ]
    }
   ],
   "source": [
    "print('Optimized w is {0}'.format(w[0]))\n",
    "print('Optimized b is {0}'.format(b[0]))\n",
    "print('Line Equation is y = {0}*x + {1}'.format(w[0],b[0]))"
   ]
  },
  {
   "cell_type": "markdown",
   "metadata": {},
   "source": [
    "Predicting the Values"
   ]
  },
  {
   "cell_type": "code",
   "execution_count": 51,
   "metadata": {},
   "outputs": [
    {
     "name": "stdout",
     "output_type": "stream",
     "text": [
      "[95.42074065]\n"
     ]
    }
   ],
   "source": [
    "#predicting score for hours=9.5\n",
    "pred=9.5*w[0]+b[0]\n",
    "print(pred)"
   ]
  }
 ],
 "metadata": {
  "kernelspec": {
   "display_name": "Python 3",
   "language": "python",
   "name": "python3"
  },
  "language_info": {
   "codemirror_mode": {
    "name": "ipython",
    "version": 3
   },
   "file_extension": ".py",
   "mimetype": "text/x-python",
   "name": "python",
   "nbconvert_exporter": "python",
   "pygments_lexer": "ipython3",
   "version": "3.7.6"
  }
 },
 "nbformat": 4,
 "nbformat_minor": 4
}
